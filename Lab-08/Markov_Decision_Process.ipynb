{
  "cells": [
    {
      "cell_type": "markdown",
      "metadata": {
        "id": "-LMwDZHlsAvn"
      },
      "source": [
        "# Markov Decision Process (MDP)"
      ]
    },
    {
      "cell_type": "markdown",
      "metadata": {
        "id": "rK2etKh-sAvo"
      },
      "source": [
        "### R. Y. D. Karunarathne"
      ]
    },
    {
      "cell_type": "code",
      "execution_count": 1,
      "metadata": {
        "id": "Tlr-PNcssAvp"
      },
      "outputs": [],
      "source": [
        "import copy\n",
        "import timeit\n",
        "import numpy as np\n",
        "import matplotlib.pyplot as pl\n",
        "%matplotlib inline\n",
        "from ipywidgets import interactive\n",
        "import ipywidgets as widgets"
      ]
    },
    {
      "cell_type": "markdown",
      "metadata": {
        "id": "_f6VSXlQsAvs"
      },
      "source": [
        "Create the following grid world.\n",
        "\n",
        "**States:** A 10x10 grid\n",
        "\n",
        "**Actions:** Up, Down, Left, Right\n",
        "\n",
        "**Tranistion probabilities:**\n",
        "* 0.7 in the direction of action\n",
        "* 0.1 in the three other directions\n",
        "* The robot bounces back to the same state near edges\n",
        "\n",
        "**Rewards:**\n",
        "* (7,8) has a reward +10\n",
        "* (2,7) has a reward +3\n",
        "* (4,3) has a reward -5\n",
        "* (7,3) has a reward -10\n",
        "* No reward in other states\n",
        "\n",
        "This example is based on Decision Making Under Uncertainty by M.J. Kochenderfer."
      ]
    },
    {
      "cell_type": "code",
      "execution_count": 2,
      "metadata": {
        "id": "sbT7VOEQsAvt"
      },
      "outputs": [],
      "source": [
        "#Let's define MDP paras\n",
        "def createGrid10World():\n",
        "    def xy2s(y, x):\n",
        "        x = max(x, 0)\n",
        "        y = max(y, 0)\n",
        "        x = min(x, 9)\n",
        "        y = min(y, 9)\n",
        "        out = np.ravel_multi_index(np.array([x,y]), (10,10))\n",
        "        return out\n",
        "\n",
        "    def s2xy(s):\n",
        "        x, y = np.unravel_index(s, (10,10))\n",
        "        return y, x\n",
        "\n",
        "    def gridPlot(ax, im, title='', cmap='Blues'):\n",
        "        pl.imshow(im, interpolation='none', cmap=cmap, origin='lower')\n",
        "        pl.colorbar()\n",
        "        ax.set_xticks(np.arange(0, 10, 1));\n",
        "        ax.set_yticks(np.arange(0, 10, 1));\n",
        "        ax.set_xticklabels(np.arange(0, 10, 1));\n",
        "        ax.set_yticklabels(np.arange(0, 10, 1));\n",
        "        ax.set_xticks(np.arange(-.5, 10, 1), minor=True);\n",
        "        ax.set_yticks(np.arange(-.5, 10, 1), minor=True);\n",
        "        ax.grid(which='minor', color='w', linestyle='-', linewidth=1)\n",
        "        pl.title(title);\n",
        "        return\n",
        "\n",
        "    A = ['left', 'right', 'up', 'down']\n",
        "    S = np.arange(100)\n",
        "    T = np.zeros((len(S), len(A), len(S)))\n",
        "    R = np.zeros((len(S), len(A)))\n",
        "    for s in S:\n",
        "        x, y = s2xy(s)\n",
        "        if x == 2 and y == 7:\n",
        "            R[s, :] = 3\n",
        "        elif x == 7 and y == 8:\n",
        "            R[s, :] = 10\n",
        "        else:\n",
        "            if x == 7 and y == 3:\n",
        "                R[s, :] = -10\n",
        "            elif x == 4 and y == 3:\n",
        "                R[s, :] = -5\n",
        "            elif x == 0:\n",
        "                if y == 0 or y == 9:\n",
        "                    R[s, :] = -0.2\n",
        "                else:\n",
        "                    R[s, :] = -0.1\n",
        "                R[s, 0] = -0.7\n",
        "            elif x == 9:\n",
        "                if y == 0 or y == 9:\n",
        "                    R[s, :] = -0.2\n",
        "                else:\n",
        "                    R[s, :] = -0.1\n",
        "                R[s, 1] = -0.7\n",
        "            elif y == 0:\n",
        "                if x == 0 or x == 9:\n",
        "                    R[s, :] = -0.2\n",
        "                else:\n",
        "                    R[s, :] = -0.1\n",
        "                R[s, 3] = -0.7\n",
        "            elif y == 9:\n",
        "                if x == 0 or x == 9:\n",
        "                    R[s, :] = -0.2\n",
        "                else:\n",
        "                    R[s, :] = -0.1\n",
        "                R[s, 2] = -0.7\n",
        "\n",
        "            for a in A:\n",
        "                if a == 'left':\n",
        "                    T[s, 0, xy2s(x - 1, y)] += 0.7\n",
        "                    T[s, 0, xy2s(x + 1, y)] += 0.1\n",
        "                    T[s, 0, xy2s(x, y - 1)] += 0.1\n",
        "                    T[s, 0, xy2s(x, y + 1)] += 0.1\n",
        "                elif a == 'right':\n",
        "                    T[s, 1, xy2s(x + 1, y)] += 0.7\n",
        "                    T[s, 1, xy2s(x - 1, y)] += 0.1\n",
        "                    T[s, 1, xy2s(x, y - 1)] += 0.1\n",
        "                    T[s, 1, xy2s(x, y + 1)] += 0.1\n",
        "                elif a == 'up':\n",
        "                    T[s, 2, xy2s(x, y + 1)] += 0.7\n",
        "                    T[s, 2, xy2s(x, y - 1)] += 0.1\n",
        "                    T[s, 2, xy2s(x - 1, y)] += 0.1\n",
        "                    T[s, 2, xy2s(x + 1, y)] += 0.1\n",
        "                elif a == 'down':\n",
        "                    T[s, 3, xy2s(x, y - 1)] += 0.7\n",
        "                    T[s, 3, xy2s(x, y + 1)] += 0.1\n",
        "                    T[s, 3, xy2s(x - 1, y)] += 0.1\n",
        "                    T[s, 3, xy2s(x + 1, y)] += 0.1\n",
        "\n",
        "    for a, c_x, c_y in [(0,0,0), (0,0,9),(1,9,0),(1,9,9),(2,0,9),(2,9,9),(3,0,0),(3,9,0)]:\n",
        "        R[xy2s(c_x,c_y),a] = -0.8\n",
        "\n",
        "    discount = 0.9\n",
        "\n",
        "    nextStates = {}\n",
        "    for si in range(len(S)):\n",
        "        for ai in range(len(A)):\n",
        "            nextStates[(si,ai)] = np.where((T[si, ai, :] != 0) == True)[0]\n",
        "\n",
        "    return {'S':S, 'A':A, 'T':T, 'R':R, 'discount':discount, 'nextStates':nextStates, 'gridPlot':gridPlot, 'xy2s':xy2s, 's2xy':s2xy}"
      ]
    },
    {
      "cell_type": "code",
      "execution_count": 3,
      "metadata": {
        "id": "BylriiRqsAvv"
      },
      "outputs": [],
      "source": [
        "class MDP():\n",
        "    def __init__(self):\n",
        "        pass\n",
        "\n",
        "    def inbuilt_init(self, mdp_dict):\n",
        "        self.S = mdp_dict['S']\n",
        "        self.A = mdp_dict['A']\n",
        "        self.T = mdp_dict['T']\n",
        "        self.R = mdp_dict['R']\n",
        "        self.discount = mdp_dict['discount']\n",
        "        self.nextStates = mdp_dict['nextStates']\n",
        "        self.gridPlot = mdp_dict['gridPlot']\n",
        "        self.xy2s = mdp_dict['xy2s']\n",
        "        self.s2xy = mdp_dict['s2xy']"
      ]
    },
    {
      "cell_type": "code",
      "execution_count": 4,
      "metadata": {
        "colab": {
          "base_uri": "https://localhost:8080/",
          "height": 1000
        },
        "id": "QGcCuJpasAvy",
        "outputId": "1acf4707-22c8-4041-bc9e-6b31cb4b6f2c"
      },
      "outputs": [
        {
          "data": {
            "image/png": "[encoded data removed]",
            "text/plain": [
              "<Figure size 300x300 with 2 Axes>"
            ]
          },
          "metadata": {},
          "output_type": "display_data"
        },
        {
          "data": {
            "image/png": "[encoded data removed]",
            "text/plain": [
              "<Figure size 1500x300 with 8 Axes>"
            ]
          },
          "metadata": {},
          "output_type": "display_data"
        },
        {
          "data": {
            "image/png": "[encoded data removed]",
            "text/plain": [
              "<Figure size 1500x300 with 8 Axes>"
            ]
          },
          "metadata": {},
          "output_type": "display_data"
        },
        {
          "data": {
            "image/png": "[encoded data removed]",
            "text/plain": [
              "<Figure size 1500x300 with 8 Axes>"
            ]
          },
          "metadata": {},
          "output_type": "display_data"
        }
      ],
      "source": [
        "#Define the MDP\n",
        "mdp = MDP()\n",
        "mdp.inbuilt_init(mdp_dict=createGrid10World())\n",
        "\n",
        "#Plot states\n",
        "pl.figure(figsize=(3,3))\n",
        "mdp.gridPlot(ax=pl.gca(), im=mdp.S.reshape((10,10)), title='States', cmap='Greys')\n",
        "\n",
        "#Plot rewards\n",
        "pl.figure(figsize=(15,3))\n",
        "pl.suptitle('Rewards', fontsize=15)\n",
        "for a in range(4):\n",
        "    pl.subplot(1,4,a+1)\n",
        "    mdp.gridPlot(ax=pl.gca(), im=mdp.R[:,a].reshape((10,10)), title='a='+mdp.A[a], cmap='jet')\n",
        "pl.show()\n",
        "\n",
        "#Plot rewards\n",
        "pl.figure(figsize=(15,3))\n",
        "pl.suptitle('Rewards - clipped larger +ve values for visualizing the edges', fontsize=15)\n",
        "for a in range(4):\n",
        "    pl.subplot(1,4,a+1)\n",
        "    mdp.gridPlot(ax=pl.gca(), im=np.clip(mdp.R[:,a].reshape((10,10)), -1, -0.5), title='a='+mdp.A[a], cmap='jet')\n",
        "pl.show()\n",
        "\n",
        "#Plot rewards\n",
        "s0_x, s0_y = 3, 5\n",
        "s0 = mdp.xy2s(s0_x, s0_y)\n",
        "pl.figure(figsize=(15,3))\n",
        "pl.suptitle('Transition probabilities T(s1|s0=({},{}),a)'.format(s0_x, s0_y), fontsize=15)\n",
        "for a in range(4):\n",
        "    pl.subplot(1,4,a+1)\n",
        "    mdp.gridPlot(ax=pl.gca(), im=mdp.T[s0,a,:].reshape((10,10)), title='a='+mdp.A[a], cmap='Blues')\n",
        "pl.show()"
      ]
    },
    {
      "cell_type": "code",
      "execution_count": 5,
      "metadata": {
        "colab": {
          "base_uri": "https://localhost:8080/",
          "height": 612,
          "referenced_widgets": [
            "6c325998199f488d9cb4a542ea7d40fa",
            "919312aa9133437c861ca084e4d83bed",
            "a9f12b2c12264ee7b609cc9b63f35d5d",
            "0b4031f46eea4c54b9e87ff040b4753d",
            "20081bc7c3b4439895e0ffc2c0500b24",
            "5c85e936eb8b4d8c99b2715a274c1d4b",
            "7c77c419080c44678110d3c429557c3a",
            "d0c4781f8d384ba3be1d2b4d6a26a8a1",
            "e3c55879d1914ad0af5daa28c6ca5133",
            "49e6798553e347e0b007d774ce118bd1",
            "bb20047c257742979861005128438e54",
            "dadecc89df3f415f9a7d59609c185760",
            "2f098a24455a4d1fac3de24677cbae95"
          ]
        },
        "id": "WSh9F6O2sAv1",
        "outputId": "b5d27ea3-4d2c-4eb9-c54d-26d1c96a3d4d"
      },
      "outputs": [
        {
          "data": {
            "application/vnd.jupyter.widget-view+json": {
              "model_id": "6c325998199f488d9cb4a542ea7d40fa",
              "version_major": 2,
              "version_minor": 0
            },
            "text/plain": [
              "interactive(children=(Text(value='4', description='s0_x'), Text(value='5', description='s0_y'), ToggleButtons(…"
            ]
          },
          "metadata": {},
          "output_type": "display_data"
        }
      ],
      "source": [
        "#An interactive plot of transition probabilities\n",
        "def f(s0_x, s0_y, action):\n",
        "    a = mdp.A.index(action)\n",
        "    s0 = mdp.xy2s(int(s0_x), int(s0_y))\n",
        "    pl.figure(figsize=(6,6))\n",
        "    title = 'Transition probabilities T(s1|s0=({},{}),a={})'.format(int(s0_x),int(s0_y),action)\n",
        "    mdp.gridPlot(ax=pl.gca(), im=mdp.T[s0,a,:].reshape((10,10)), title=title, cmap='Blues')\n",
        "    pl.show()\n",
        "\n",
        "interactive_plot = interactive(f, s0_x='4', s0_y='5', action=widgets.ToggleButtons(options=['left', 'right', 'up', 'down']))\n",
        "interactive_plot"
      ]
    },
    {
      "cell_type": "markdown",
      "metadata": {
        "id": "CRtcTdgOsAv4"
      },
      "source": [
        "### 1. Policy evaluation\n",
        "\n",
        "Computing the utility, U.\n",
        "\n",
        "$U^\\pi_k(s) = R(s, \\pi(s)) + \\gamma \\sum_{s'} T(s' \\mid s, \\pi(s))U^\\pi_{k-1}(s')$"
      ]
    },
    {
      "cell_type": "code",
      "execution_count": 6,
      "metadata": {
        "colab": {
          "base_uri": "https://localhost:8080/",
          "height": 307
        },
        "id": "cT2yS--rsAv4",
        "outputId": "64ddca98-25fa-4e5f-bf8e-b0b4aaa6e33f"
      },
      "outputs": [
        {
          "data": {
            "image/png": "[encoded data removed]",
            "text/plain": [
              "<Figure size 1500x300 with 8 Axes>"
            ]
          },
          "metadata": {},
          "output_type": "display_data"
        }
      ],
      "source": [
        "def iterativePolicyEvaluation(mdp, policy, numIterations=10):\n",
        "    U = np.zeros(len(mdp.S))\n",
        "    U_old = copy.copy(U)\n",
        "    for t in range(numIterations):\n",
        "        #type your code here\n",
        "        for s in mdp.S:  # Iterate over each state\n",
        "            a = policy  # Use the fixed policy action\n",
        "            U[s] = sum([mdp.T[s, a, s_prime] * (mdp.R[s, a] + 0.9 * U_old[s_prime])\n",
        "                        for s_prime in mdp.S])\n",
        "        U_old = copy.copy(U)  # Update old utility values after each iteration\n",
        "\n",
        "    return U\n",
        "\n",
        "numIterations = 5\n",
        "pl.figure(figsize=(15,3))\n",
        "pl.suptitle('Utilities', fontsize=15)\n",
        "for a in range(4):\n",
        "    pl.subplot(1,4,a+1)\n",
        "    U = iterativePolicyEvaluation(mdp=mdp, policy=a, numIterations=numIterations)\n",
        "    mdp.gridPlot(ax=pl.gca(), im=U.reshape(10,10), title='a='+mdp.A[a], cmap='jet')\n",
        "pl.show()\n",
        "#print(np.round(U.reshape(10,10),3))"
      ]
    },
    {
      "cell_type": "code",
      "execution_count": 7,
      "metadata": {
        "colab": {
          "base_uri": "https://localhost:8080/",
          "height": 347,
          "referenced_widgets": [
            "a0efde5f07d74430b056e195bb32616f",
            "eeee524faae248a1b81c71a107228a55",
            "61f968517c8349d5a933fa4b33483b64",
            "1106526d08554dd98f60a6e1f7605ffa",
            "2308647243164096b03e8aa3b358b697",
            "e0b904a6ae2d4c90a16b1a4c41db39f8",
            "ec62b4096f4648c69aa6ab90d0ce5035",
            "5e53fb8a1d9e47498f230efd2bbb0b7a",
            "2134893fb67940bfbee6af207216a0b8",
            "8977868f439a4d009418b94c22fe86ec"
          ]
        },
        "id": "XcMijKgbsAv7",
        "outputId": "b5c6f232-131e-4aed-ad73-551b812ccfeb"
      },
      "outputs": [
        {
          "data": {
            "application/vnd.jupyter.widget-view+json": {
              "model_id": "a0efde5f07d74430b056e195bb32616f",
              "version_major": 2,
              "version_minor": 0
            },
            "text/plain": [
              "interactive(children=(ToggleButtons(description='action', options=('left', 'right', 'up', 'down'), value='left…"
            ]
          },
          "metadata": {},
          "output_type": "display_data"
        }
      ],
      "source": [
        "def f(action, numIter=1):\n",
        "    U = iterativePolicyEvaluation(mdp, policy=mdp.A.index(action), numIterations=numIter)\n",
        "    pl.figure(figsize=(3,3))\n",
        "    mdp.gridPlot(ax=pl.gca(), im=U.reshape(10,10), title='Utility', cmap='jet')\n",
        "    pl.show()\n",
        "\n",
        "interactive_plot = interactive(f, action=widgets.ToggleButtons(options=['left', 'right', 'up', 'down']),\n",
        "                               numIter=widgets.IntSlider(min=0, max=20, step=1, value=0))\n",
        "interactive_plot"
      ]
    },
    {
      "cell_type": "code",
      "execution_count": 8,
      "metadata": {
        "colab": {
          "base_uri": "https://localhost:8080/",
          "height": 282
        },
        "id": "-L8qvyKAsAv9",
        "outputId": "5194739b-3dc6-4ffe-f7b3-3cf1b48adfef"
      },
      "outputs": [
        {
          "data": {
            "image/png": "[encoded data removed]",
            "text/plain": [
              "<Figure size 300x300 with 2 Axes>"
            ]
          },
          "metadata": {},
          "output_type": "display_data"
        }
      ],
      "source": [
        "#Value iteration\n",
        "def valueIteration(mdp, numIterations=1):\n",
        "    U = np.zeros(len(mdp.S))\n",
        "    U_old = copy.copy(U)\n",
        "    for t in range(numIterations):\n",
        "        #type your code here\n",
        "        for s in mdp.S:  # Iterate over each state\n",
        "            U[s] = max([sum([mdp.T[s, a, s_prime] * (mdp.R[s, a] + 0.9 * U_old[s_prime])\n",
        "                            for s_prime in mdp.S]) for a in range(len(mdp.A))])\n",
        "        U_old = copy.copy(U)  # Update old utility values\n",
        "    return U\n",
        "\n",
        "def policyExtration(mdp, U):\n",
        "    policy = np.zeros(len(mdp.S))\n",
        "    #type your code here\n",
        "    for s in mdp.S:  # Iterate over each state\n",
        "        action_values = [sum([mdp.T[s, a, s_prime] * (mdp.R[s, a] + 0.9 * U[s_prime])\n",
        "                             for s_prime in mdp.S]) for a in range(len(mdp.A))]\n",
        "        policy[s] = np.argmax(action_values)  # Select action with highest value\n",
        "\n",
        "    return policy\n",
        "\n",
        "U = valueIteration(mdp, numIterations=2)\n",
        "policy = policyExtration(mdp, U=U)\n",
        "pl.figure(figsize=(3,3))\n",
        "mdp.gridPlot(ax=pl.gca(), im=U.reshape(10,10), title='Utility', cmap='jet')\n",
        "for s in range(100):\n",
        "    x, y = mdp.s2xy(s)\n",
        "    if policy[s] == 0:\n",
        "        m='\\u02C2'\n",
        "    elif policy[s] == 1:\n",
        "        m='\\u02C3'\n",
        "    elif policy[s] == 2:\n",
        "        m='\\u02C4'\n",
        "    elif policy[s] == 3:\n",
        "        m='\\u02C5'\n",
        "    pl.text(x-0.5,y-1,m,color='k',size=20)\n",
        "pl.show()"
      ]
    },
    {
      "cell_type": "code",
      "execution_count": 9,
      "metadata": {
        "colab": {
          "base_uri": "https://localhost:8080/",
          "height": 331,
          "referenced_widgets": [
            "5520198b7d1c4c35b028d9a334de5c0b",
            "5ee3acfba4a74fa08b87dc468f8acc49",
            "95037ceef7c84c34b90bb980e0940311",
            "55c518161d5e494897944c56ffd30bf4",
            "bc023eea50eb442880c70b540564833c",
            "c44db37c7a954ee8880d50ce6329ae98",
            "26e3c08c949c4d7cb6117a7238d802af"
          ]
        },
        "id": "W7Hvi7YdsAv_",
        "outputId": "674914e1-cd82-454e-bf21-7b64a497af03"
      },
      "outputs": [
        {
          "data": {
            "application/vnd.jupyter.widget-view+json": {
              "model_id": "5520198b7d1c4c35b028d9a334de5c0b",
              "version_major": 2,
              "version_minor": 0
            },
            "text/plain": [
              "interactive(children=(IntSlider(value=0, description='numIter', max=20), Output()), _dom_classes=('widget-inte…"
            ]
          },
          "metadata": {},
          "output_type": "display_data"
        }
      ],
      "source": [
        "def f(numIter=1):\n",
        "    start_time = timeit.default_timer()\n",
        "    U = valueIteration(mdp, numIterations=numIter)\n",
        "    policy = policyExtration(mdp, U=U)\n",
        "    elapsed = timeit.default_timer() - start_time\n",
        "    print('time=', np.round(elapsed*1000,2))\n",
        "    pl.figure(figsize=(3,3))\n",
        "    mdp.gridPlot(ax=pl.gca(), im=U.reshape(10,10), title='Utility', cmap='jet')\n",
        "    for s in range(100):\n",
        "        x, y = mdp.s2xy(s)\n",
        "        if policy[s] == 0:\n",
        "            m='\\u02C2'\n",
        "        elif policy[s] == 1:\n",
        "            m='\\u02C3'\n",
        "        elif policy[s] == 2:\n",
        "            m='\\u02C4'\n",
        "        elif policy[s] == 3:\n",
        "            m='\\u02C5'\n",
        "        pl.text(x-0.5,y-1,m,color='k',size=20)\n",
        "    pl.show()\n",
        "\n",
        "interactive_plot = interactive(f, numIter=widgets.IntSlider(min=0, max=20, step=1, value=0))\n",
        "interactive_plot"
      ]
    },
    {
      "cell_type": "markdown",
      "metadata": {
        "id": "6il1i5CesAwB"
      },
      "source": [
        "### 2. Policy iteration\n",
        "\n",
        "Policy evaluation can be used in policy iteration:\n",
        "1. Given the current policy, compute U\n",
        "2. Using U, compute a new policy"
      ]
    },
    {
      "cell_type": "code",
      "execution_count": 10,
      "metadata": {
        "id": "5VzzQB0jsAwC"
      },
      "outputs": [],
      "source": [
        "def policyIteration(mdp, numIterations=1):\n",
        "    U_pi_k = np.zeros(len(mdp.S)) #initial values\n",
        "    pi_k = np.random.randint(low=0,high=4,size=len(mdp.S),dtype=int) #initial policy\n",
        "    pi_kp1 = copy.copy(pi_k)\n",
        "    for t in range(numIterations):\n",
        "        #Policy evaluation: compute U_pi_k\n",
        "        #type your code here\n",
        "\n",
        "        for i in range(100):  # iterate over all states\n",
        "            s = mdp.S[i]\n",
        "            a = pi_k[s]  # action according to current policy\n",
        "            U_pi_k[s] = sum([mdp.T[s, a, s_prime] * (mdp.R[s, a] + 0.9 * U_pi_k[s_prime])\n",
        "                             for s_prime in mdp.S])\n",
        "\n",
        "        #Policy improvement\n",
        "          #type your code here\n",
        "\n",
        "        for s in mdp.S:\n",
        "            action_values = []\n",
        "            for a in range(len(mdp.A)):  # evaluate all possible actions\n",
        "                action_value = sum([mdp.T[s, a, s_prime] * (mdp.R[s, a] + 0.9 * U_pi_k[s_prime])\n",
        "                                    for s_prime in mdp.S])\n",
        "                action_values.append(action_value)\n",
        "            pi_kp1[s] = np.argmax(action_values)  # choose action with highest value\n",
        "\n",
        "        # Check for convergence (optional)\n",
        "        if np.array_equal(pi_k, pi_kp1):\n",
        "            break\n",
        "\n",
        "        pi_k = copy.copy(pi_kp1)\n",
        "\n",
        "    return U_pi_k, pi_kp1\n",
        "\n",
        "U_pi_k, pi_kp1 = policyIteration(mdp, numIterations=2)"
      ]
    },
    {
      "cell_type": "code",
      "execution_count": 11,
      "metadata": {
        "colab": {
          "base_uri": "https://localhost:8080/",
          "height": 331,
          "referenced_widgets": [
            "a8f2f0350fbb489980a1299a90849b18",
            "f312f3c03236439ba46fe31d423def34",
            "136304bbec454fc59fddc98547332e1a",
            "dab4cc6a289f45c88e9c7812b3360bb3",
            "211162dd2dc340c6ab58592dd4ba62fb",
            "6fd43ac6ba8248429155c348977eea3b",
            "2f04963fbf574c83b258b3979abde6f7"
          ]
        },
        "id": "lSHVZ0CwsAwE",
        "outputId": "d402c85b-ed29-4088-b3e1-75b9a16c37fe"
      },
      "outputs": [
        {
          "data": {
            "application/vnd.jupyter.widget-view+json": {
              "model_id": "a8f2f0350fbb489980a1299a90849b18",
              "version_major": 2,
              "version_minor": 0
            },
            "text/plain": [
              "interactive(children=(IntSlider(value=0, description='numIter', max=20), Output()), _dom_classes=('widget-inte…"
            ]
          },
          "metadata": {},
          "output_type": "display_data"
        }
      ],
      "source": [
        "def f(numIter=1):\n",
        "    start_time = timeit.default_timer()\n",
        "    # code you want to evaluate\n",
        "    value, policy = policyIteration(mdp, numIterations=numIter)\n",
        "    elapsed = timeit.default_timer() - start_time\n",
        "    print('time=', np.round(elapsed*1000,2))\n",
        "    pl.figure(figsize=(3,3))\n",
        "    mdp.gridPlot(ax=pl.gca(), im=value.reshape(10,10), title='Utility', cmap='jet')\n",
        "    for s in range(100):\n",
        "        x, y = mdp.s2xy(s)\n",
        "        if policy[s] == 0:\n",
        "            m='\\u02C2'\n",
        "        elif policy[s] == 1:\n",
        "            m='\\u02C3'\n",
        "        elif policy[s] == 2:\n",
        "            m='\\u02C4'\n",
        "        elif policy[s] == 3:\n",
        "            m='\\u02C5'\n",
        "        pl.text(x-0.5,y-1,m,color='k',size=20)\n",
        "    pl.show()\n",
        "\n",
        "interactive_plot = interactive(f, numIter=widgets.IntSlider(min=0, max=20, step=1, value=0))\n",
        "interactive_plot"
      ]
    },
    {
      "cell_type": "markdown",
      "metadata": {
        "id": "3_TfnOhzA6ab"
      },
      "source": [
        "IT21169144 - Karunarathne R. Y. D. "
      ]
    }
  ],
  "metadata": {
    "@webio": {
      "lastCommId": "21E8675012EB469B8DD225E5191E1594",
      "lastKernelId": "ec90fbfa-47cf-4656-a1ce-4ca4670e6701"
    },
    "colab": {
      "provenance": []
    },
    "kernelspec": {
      "display_name": "Python 3 (ipykernel)",
      "language": "python",
      "name": "python3"
    },
    "language_info": {
      "codemirror_mode": {
        "name": "ipython",
        "version": 3
      },
      "file_extension": ".py",
      "mimetype": "text/x-python",
      "name": "python",
      "nbconvert_exporter": "python",
      "pygments_lexer": "ipython3",
      "version": "3.11.0"
    },
    "widgets": {
      "application/vnd.jupyter.widget-state+json": {
        "0b4031f46eea4c54b9e87ff040b4753d": {
          "model_module": "@jupyter-widgets/controls",
          "model_module_version": "1.5.0",
          "model_name": "ToggleButtonsModel",
          "state": {
            "_dom_classes": [],
            "_model_module": "@jupyter-widgets/controls",
            "_model_module_version": "1.5.0",
            "_model_name": "ToggleButtonsModel",
            "_options_labels": [
              "left",
              "right",
              "up",
              "down"
            ],
            "_view_count": null,
            "_view_module": "@jupyter-widgets/controls",
            "_view_module_version": "1.5.0",
            "_view_name": "ToggleButtonsView",
            "button_style": "",
            "description": "action",
            "description_tooltip": null,
            "disabled": false,
            "icons": [],
            "index": 0,
            "layout": "IPY_MODEL_bb20047c257742979861005128438e54",
            "style": "IPY_MODEL_dadecc89df3f415f9a7d59609c185760",
            "tooltips": []
          }
        },
        "1106526d08554dd98f60a6e1f7605ffa": {
          "model_module": "@jupyter-widgets/output",
          "model_module_version": "1.0.0",
          "model_name": "OutputModel",
          "state": {
            "_dom_classes": [],
            "_model_module": "@jupyter-widgets/output",
            "_model_module_version": "1.0.0",
            "_model_name": "OutputModel",
            "_view_count": null,
            "_view_module": "@jupyter-widgets/output",
            "_view_module_version": "1.0.0",
            "_view_name": "OutputView",
            "layout": "IPY_MODEL_8977868f439a4d009418b94c22fe86ec",
            "msg_id": "",
            "outputs": [
              {
                "data": {
                  "image/png": "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\n",
                  "text/plain": "<Figure size 300x300 with 2 Axes>"
                },
                "metadata": {},
                "output_type": "display_data"
              }
            ]
          }
        },
        "136304bbec454fc59fddc98547332e1a": {
          "model_module": "@jupyter-widgets/output",
          "model_module_version": "1.0.0",
          "model_name": "OutputModel",
          "state": {
            "_dom_classes": [],
            "_model_module": "@jupyter-widgets/output",
            "_model_module_version": "1.0.0",
            "_model_name": "OutputModel",
            "_view_count": null,
            "_view_module": "@jupyter-widgets/output",
            "_view_module_version": "1.0.0",
            "_view_name": "OutputView",
            "layout": "IPY_MODEL_2f04963fbf574c83b258b3979abde6f7",
            "msg_id": "",
            "outputs": [
              {
                "name": "stdout",
                "output_type": "stream",
                "text": [
                  "time= 0.17\n"
                ]
              },
              {
                "data": {
                  "image/png": "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\n",
                  "text/plain": "<Figure size 300x300 with 2 Axes>"
                },
                "metadata": {},
                "output_type": "display_data"
              }
            ]
          }
        },
        "20081bc7c3b4439895e0ffc2c0500b24": {
          "model_module": "@jupyter-widgets/output",
          "model_module_version": "1.0.0",
          "model_name": "OutputModel",
          "state": {
            "_dom_classes": [],
            "_model_module": "@jupyter-widgets/output",
            "_model_module_version": "1.0.0",
            "_model_name": "OutputModel",
            "_view_count": null,
            "_view_module": "@jupyter-widgets/output",
            "_view_module_version": "1.0.0",
            "_view_name": "OutputView",
            "layout": "IPY_MODEL_2f098a24455a4d1fac3de24677cbae95",
            "msg_id": "",
            "outputs": [
              {
                "data": {
                  "image/png": "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\n",
                  "text/plain": "<Figure size 600x600 with 2 Axes>"
                },
                "metadata": {},
                "output_type": "display_data"
              }
            ]
          }
        },
        "211162dd2dc340c6ab58592dd4ba62fb": {
          "model_module": "@jupyter-widgets/base",
          "model_module_version": "1.2.0",
          "model_name": "LayoutModel",
          "state": {
            "_model_module": "@jupyter-widgets/base",
            "_model_module_version": "1.2.0",
            "_model_name": "LayoutModel",
            "_view_count": null,
            "_view_module": "@jupyter-widgets/base",
            "_view_module_version": "1.2.0",
            "_view_name": "LayoutView",
            "align_content": null,
            "align_items": null,
            "align_self": null,
            "border": null,
            "bottom": null,
            "display": null,
            "flex": null,
            "flex_flow": null,
            "grid_area": null,
            "grid_auto_columns": null,
            "grid_auto_flow": null,
            "grid_auto_rows": null,
            "grid_column": null,
            "grid_gap": null,
            "grid_row": null,
            "grid_template_areas": null,
            "grid_template_columns": null,
            "grid_template_rows": null,
            "height": null,
            "justify_content": null,
            "justify_items": null,
            "left": null,
            "margin": null,
            "max_height": null,
            "max_width": null,
            "min_height": null,
            "min_width": null,
            "object_fit": null,
            "object_position": null,
            "order": null,
            "overflow": null,
            "overflow_x": null,
            "overflow_y": null,
            "padding": null,
            "right": null,
            "top": null,
            "visibility": null,
            "width": null
          }
        },
        "2134893fb67940bfbee6af207216a0b8": {
          "model_module": "@jupyter-widgets/controls",
          "model_module_version": "1.5.0",
          "model_name": "SliderStyleModel",
          "state": {
            "_model_module": "@jupyter-widgets/controls",
            "_model_module_version": "1.5.0",
            "_model_name": "SliderStyleModel",
            "_view_count": null,
            "_view_module": "@jupyter-widgets/base",
            "_view_module_version": "1.2.0",
            "_view_name": "StyleView",
            "description_width": "",
            "handle_color": null
          }
        },
        "2308647243164096b03e8aa3b358b697": {
          "model_module": "@jupyter-widgets/base",
          "model_module_version": "1.2.0",
          "model_name": "LayoutModel",
          "state": {
            "_model_module": "@jupyter-widgets/base",
            "_model_module_version": "1.2.0",
            "_model_name": "LayoutModel",
            "_view_count": null,
            "_view_module": "@jupyter-widgets/base",
            "_view_module_version": "1.2.0",
            "_view_name": "LayoutView",
            "align_content": null,
            "align_items": null,
            "align_self": null,
            "border": null,
            "bottom": null,
            "display": null,
            "flex": null,
            "flex_flow": null,
            "grid_area": null,
            "grid_auto_columns": null,
            "grid_auto_flow": null,
            "grid_auto_rows": null,
            "grid_column": null,
            "grid_gap": null,
            "grid_row": null,
            "grid_template_areas": null,
            "grid_template_columns": null,
            "grid_template_rows": null,
            "height": null,
            "justify_content": null,
            "justify_items": null,
            "left": null,
            "margin": null,
            "max_height": null,
            "max_width": null,
            "min_height": null,
            "min_width": null,
            "object_fit": null,
            "object_position": null,
            "order": null,
            "overflow": null,
            "overflow_x": null,
            "overflow_y": null,
            "padding": null,
            "right": null,
            "top": null,
            "visibility": null,
            "width": null
          }
        },
        "26e3c08c949c4d7cb6117a7238d802af": {
          "model_module": "@jupyter-widgets/base",
          "model_module_version": "1.2.0",
          "model_name": "LayoutModel",
          "state": {
            "_model_module": "@jupyter-widgets/base",
            "_model_module_version": "1.2.0",
            "_model_name": "LayoutModel",
            "_view_count": null,
            "_view_module": "@jupyter-widgets/base",
            "_view_module_version": "1.2.0",
            "_view_name": "LayoutView",
            "align_content": null,
            "align_items": null,
            "align_self": null,
            "border": null,
            "bottom": null,
            "display": null,
            "flex": null,
            "flex_flow": null,
            "grid_area": null,
            "grid_auto_columns": null,
            "grid_auto_flow": null,
            "grid_auto_rows": null,
            "grid_column": null,
            "grid_gap": null,
            "grid_row": null,
            "grid_template_areas": null,
            "grid_template_columns": null,
            "grid_template_rows": null,
            "height": null,
            "justify_content": null,
            "justify_items": null,
            "left": null,
            "margin": null,
            "max_height": null,
            "max_width": null,
            "min_height": null,
            "min_width": null,
            "object_fit": null,
            "object_position": null,
            "order": null,
            "overflow": null,
            "overflow_x": null,
            "overflow_y": null,
            "padding": null,
            "right": null,
            "top": null,
            "visibility": null,
            "width": null
          }
        },
        "2f04963fbf574c83b258b3979abde6f7": {
          "model_module": "@jupyter-widgets/base",
          "model_module_version": "1.2.0",
          "model_name": "LayoutModel",
          "state": {
            "_model_module": "@jupyter-widgets/base",
            "_model_module_version": "1.2.0",
            "_model_name": "LayoutModel",
            "_view_count": null,
            "_view_module": "@jupyter-widgets/base",
            "_view_module_version": "1.2.0",
            "_view_name": "LayoutView",
            "align_content": null,
            "align_items": null,
            "align_self": null,
            "border": null,
            "bottom": null,
            "display": null,
            "flex": null,
            "flex_flow": null,
            "grid_area": null,
            "grid_auto_columns": null,
            "grid_auto_flow": null,
            "grid_auto_rows": null,
            "grid_column": null,
            "grid_gap": null,
            "grid_row": null,
            "grid_template_areas": null,
            "grid_template_columns": null,
            "grid_template_rows": null,
            "height": null,
            "justify_content": null,
            "justify_items": null,
            "left": null,
            "margin": null,
            "max_height": null,
            "max_width": null,
            "min_height": null,
            "min_width": null,
            "object_fit": null,
            "object_position": null,
            "order": null,
            "overflow": null,
            "overflow_x": null,
            "overflow_y": null,
            "padding": null,
            "right": null,
            "top": null,
            "visibility": null,
            "width": null
          }
        },
        "2f098a24455a4d1fac3de24677cbae95": {
          "model_module": "@jupyter-widgets/base",
          "model_module_version": "1.2.0",
          "model_name": "LayoutModel",
          "state": {
            "_model_module": "@jupyter-widgets/base",
            "_model_module_version": "1.2.0",
            "_model_name": "LayoutModel",
            "_view_count": null,
            "_view_module": "@jupyter-widgets/base",
            "_view_module_version": "1.2.0",
            "_view_name": "LayoutView",
            "align_content": null,
            "align_items": null,
            "align_self": null,
            "border": null,
            "bottom": null,
            "display": null,
            "flex": null,
            "flex_flow": null,
            "grid_area": null,
            "grid_auto_columns": null,
            "grid_auto_flow": null,
            "grid_auto_rows": null,
            "grid_column": null,
            "grid_gap": null,
            "grid_row": null,
            "grid_template_areas": null,
            "grid_template_columns": null,
            "grid_template_rows": null,
            "height": null,
            "justify_content": null,
            "justify_items": null,
            "left": null,
            "margin": null,
            "max_height": null,
            "max_width": null,
            "min_height": null,
            "min_width": null,
            "object_fit": null,
            "object_position": null,
            "order": null,
            "overflow": null,
            "overflow_x": null,
            "overflow_y": null,
            "padding": null,
            "right": null,
            "top": null,
            "visibility": null,
            "width": null
          }
        },
        "49e6798553e347e0b007d774ce118bd1": {
          "model_module": "@jupyter-widgets/controls",
          "model_module_version": "1.5.0",
          "model_name": "DescriptionStyleModel",
          "state": {
            "_model_module": "@jupyter-widgets/controls",
            "_model_module_version": "1.5.0",
            "_model_name": "DescriptionStyleModel",
            "_view_count": null,
            "_view_module": "@jupyter-widgets/base",
            "_view_module_version": "1.2.0",
            "_view_name": "StyleView",
            "description_width": ""
          }
        },
        "5520198b7d1c4c35b028d9a334de5c0b": {
          "model_module": "@jupyter-widgets/controls",
          "model_module_version": "1.5.0",
          "model_name": "VBoxModel",
          "state": {
            "_dom_classes": [
              "widget-interact"
            ],
            "_model_module": "@jupyter-widgets/controls",
            "_model_module_version": "1.5.0",
            "_model_name": "VBoxModel",
            "_view_count": null,
            "_view_module": "@jupyter-widgets/controls",
            "_view_module_version": "1.5.0",
            "_view_name": "VBoxView",
            "box_style": "",
            "children": [
              "IPY_MODEL_5ee3acfba4a74fa08b87dc468f8acc49",
              "IPY_MODEL_95037ceef7c84c34b90bb980e0940311"
            ],
            "layout": "IPY_MODEL_55c518161d5e494897944c56ffd30bf4"
          }
        },
        "55c518161d5e494897944c56ffd30bf4": {
          "model_module": "@jupyter-widgets/base",
          "model_module_version": "1.2.0",
          "model_name": "LayoutModel",
          "state": {
            "_model_module": "@jupyter-widgets/base",
            "_model_module_version": "1.2.0",
            "_model_name": "LayoutModel",
            "_view_count": null,
            "_view_module": "@jupyter-widgets/base",
            "_view_module_version": "1.2.0",
            "_view_name": "LayoutView",
            "align_content": null,
            "align_items": null,
            "align_self": null,
            "border": null,
            "bottom": null,
            "display": null,
            "flex": null,
            "flex_flow": null,
            "grid_area": null,
            "grid_auto_columns": null,
            "grid_auto_flow": null,
            "grid_auto_rows": null,
            "grid_column": null,
            "grid_gap": null,
            "grid_row": null,
            "grid_template_areas": null,
            "grid_template_columns": null,
            "grid_template_rows": null,
            "height": null,
            "justify_content": null,
            "justify_items": null,
            "left": null,
            "margin": null,
            "max_height": null,
            "max_width": null,
            "min_height": null,
            "min_width": null,
            "object_fit": null,
            "object_position": null,
            "order": null,
            "overflow": null,
            "overflow_x": null,
            "overflow_y": null,
            "padding": null,
            "right": null,
            "top": null,
            "visibility": null,
            "width": null
          }
        },
        "5c85e936eb8b4d8c99b2715a274c1d4b": {
          "model_module": "@jupyter-widgets/base",
          "model_module_version": "1.2.0",
          "model_name": "LayoutModel",
          "state": {
            "_model_module": "@jupyter-widgets/base",
            "_model_module_version": "1.2.0",
            "_model_name": "LayoutModel",
            "_view_count": null,
            "_view_module": "@jupyter-widgets/base",
            "_view_module_version": "1.2.0",
            "_view_name": "LayoutView",
            "align_content": null,
            "align_items": null,
            "align_self": null,
            "border": null,
            "bottom": null,
            "display": null,
            "flex": null,
            "flex_flow": null,
            "grid_area": null,
            "grid_auto_columns": null,
            "grid_auto_flow": null,
            "grid_auto_rows": null,
            "grid_column": null,
            "grid_gap": null,
            "grid_row": null,
            "grid_template_areas": null,
            "grid_template_columns": null,
            "grid_template_rows": null,
            "height": null,
            "justify_content": null,
            "justify_items": null,
            "left": null,
            "margin": null,
            "max_height": null,
            "max_width": null,
            "min_height": null,
            "min_width": null,
            "object_fit": null,
            "object_position": null,
            "order": null,
            "overflow": null,
            "overflow_x": null,
            "overflow_y": null,
            "padding": null,
            "right": null,
            "top": null,
            "visibility": null,
            "width": null
          }
        },
        "5e53fb8a1d9e47498f230efd2bbb0b7a": {
          "model_module": "@jupyter-widgets/base",
          "model_module_version": "1.2.0",
          "model_name": "LayoutModel",
          "state": {
            "_model_module": "@jupyter-widgets/base",
            "_model_module_version": "1.2.0",
            "_model_name": "LayoutModel",
            "_view_count": null,
            "_view_module": "@jupyter-widgets/base",
            "_view_module_version": "1.2.0",
            "_view_name": "LayoutView",
            "align_content": null,
            "align_items": null,
            "align_self": null,
            "border": null,
            "bottom": null,
            "display": null,
            "flex": null,
            "flex_flow": null,
            "grid_area": null,
            "grid_auto_columns": null,
            "grid_auto_flow": null,
            "grid_auto_rows": null,
            "grid_column": null,
            "grid_gap": null,
            "grid_row": null,
            "grid_template_areas": null,
            "grid_template_columns": null,
            "grid_template_rows": null,
            "height": null,
            "justify_content": null,
            "justify_items": null,
            "left": null,
            "margin": null,
            "max_height": null,
            "max_width": null,
            "min_height": null,
            "min_width": null,
            "object_fit": null,
            "object_position": null,
            "order": null,
            "overflow": null,
            "overflow_x": null,
            "overflow_y": null,
            "padding": null,
            "right": null,
            "top": null,
            "visibility": null,
            "width": null
          }
        },
        "5ee3acfba4a74fa08b87dc468f8acc49": {
          "model_module": "@jupyter-widgets/controls",
          "model_module_version": "1.5.0",
          "model_name": "IntSliderModel",
          "state": {
            "_dom_classes": [],
            "_model_module": "@jupyter-widgets/controls",
            "_model_module_version": "1.5.0",
            "_model_name": "IntSliderModel",
            "_view_count": null,
            "_view_module": "@jupyter-widgets/controls",
            "_view_module_version": "1.5.0",
            "_view_name": "IntSliderView",
            "continuous_update": true,
            "description": "numIter",
            "description_tooltip": null,
            "disabled": false,
            "layout": "IPY_MODEL_bc023eea50eb442880c70b540564833c",
            "max": 20,
            "min": 0,
            "orientation": "horizontal",
            "readout": true,
            "readout_format": "d",
            "step": 1,
            "style": "IPY_MODEL_c44db37c7a954ee8880d50ce6329ae98",
            "value": 0
          }
        },
        "61f968517c8349d5a933fa4b33483b64": {
          "model_module": "@jupyter-widgets/controls",
          "model_module_version": "1.5.0",
          "model_name": "IntSliderModel",
          "state": {
            "_dom_classes": [],
            "_model_module": "@jupyter-widgets/controls",
            "_model_module_version": "1.5.0",
            "_model_name": "IntSliderModel",
            "_view_count": null,
            "_view_module": "@jupyter-widgets/controls",
            "_view_module_version": "1.5.0",
            "_view_name": "IntSliderView",
            "continuous_update": true,
            "description": "numIter",
            "description_tooltip": null,
            "disabled": false,
            "layout": "IPY_MODEL_5e53fb8a1d9e47498f230efd2bbb0b7a",
            "max": 20,
            "min": 0,
            "orientation": "horizontal",
            "readout": true,
            "readout_format": "d",
            "step": 1,
            "style": "IPY_MODEL_2134893fb67940bfbee6af207216a0b8",
            "value": 0
          }
        },
        "6c325998199f488d9cb4a542ea7d40fa": {
          "model_module": "@jupyter-widgets/controls",
          "model_module_version": "1.5.0",
          "model_name": "VBoxModel",
          "state": {
            "_dom_classes": [
              "widget-interact"
            ],
            "_model_module": "@jupyter-widgets/controls",
            "_model_module_version": "1.5.0",
            "_model_name": "VBoxModel",
            "_view_count": null,
            "_view_module": "@jupyter-widgets/controls",
            "_view_module_version": "1.5.0",
            "_view_name": "VBoxView",
            "box_style": "",
            "children": [
              "IPY_MODEL_919312aa9133437c861ca084e4d83bed",
              "IPY_MODEL_a9f12b2c12264ee7b609cc9b63f35d5d",
              "IPY_MODEL_0b4031f46eea4c54b9e87ff040b4753d",
              "IPY_MODEL_20081bc7c3b4439895e0ffc2c0500b24"
            ],
            "layout": "IPY_MODEL_5c85e936eb8b4d8c99b2715a274c1d4b"
          }
        },
        "6fd43ac6ba8248429155c348977eea3b": {
          "model_module": "@jupyter-widgets/controls",
          "model_module_version": "1.5.0",
          "model_name": "SliderStyleModel",
          "state": {
            "_model_module": "@jupyter-widgets/controls",
            "_model_module_version": "1.5.0",
            "_model_name": "SliderStyleModel",
            "_view_count": null,
            "_view_module": "@jupyter-widgets/base",
            "_view_module_version": "1.2.0",
            "_view_name": "StyleView",
            "description_width": "",
            "handle_color": null
          }
        },
        "7c77c419080c44678110d3c429557c3a": {
          "model_module": "@jupyter-widgets/base",
          "model_module_version": "1.2.0",
          "model_name": "LayoutModel",
          "state": {
            "_model_module": "@jupyter-widgets/base",
            "_model_module_version": "1.2.0",
            "_model_name": "LayoutModel",
            "_view_count": null,
            "_view_module": "@jupyter-widgets/base",
            "_view_module_version": "1.2.0",
            "_view_name": "LayoutView",
            "align_content": null,
            "align_items": null,
            "align_self": null,
            "border": null,
            "bottom": null,
            "display": null,
            "flex": null,
            "flex_flow": null,
            "grid_area": null,
            "grid_auto_columns": null,
            "grid_auto_flow": null,
            "grid_auto_rows": null,
            "grid_column": null,
            "grid_gap": null,
            "grid_row": null,
            "grid_template_areas": null,
            "grid_template_columns": null,
            "grid_template_rows": null,
            "height": null,
            "justify_content": null,
            "justify_items": null,
            "left": null,
            "margin": null,
            "max_height": null,
            "max_width": null,
            "min_height": null,
            "min_width": null,
            "object_fit": null,
            "object_position": null,
            "order": null,
            "overflow": null,
            "overflow_x": null,
            "overflow_y": null,
            "padding": null,
            "right": null,
            "top": null,
            "visibility": null,
            "width": null
          }
        },
        "8977868f439a4d009418b94c22fe86ec": {
          "model_module": "@jupyter-widgets/base",
          "model_module_version": "1.2.0",
          "model_name": "LayoutModel",
          "state": {
            "_model_module": "@jupyter-widgets/base",
            "_model_module_version": "1.2.0",
            "_model_name": "LayoutModel",
            "_view_count": null,
            "_view_module": "@jupyter-widgets/base",
            "_view_module_version": "1.2.0",
            "_view_name": "LayoutView",
            "align_content": null,
            "align_items": null,
            "align_self": null,
            "border": null,
            "bottom": null,
            "display": null,
            "flex": null,
            "flex_flow": null,
            "grid_area": null,
            "grid_auto_columns": null,
            "grid_auto_flow": null,
            "grid_auto_rows": null,
            "grid_column": null,
            "grid_gap": null,
            "grid_row": null,
            "grid_template_areas": null,
            "grid_template_columns": null,
            "grid_template_rows": null,
            "height": null,
            "justify_content": null,
            "justify_items": null,
            "left": null,
            "margin": null,
            "max_height": null,
            "max_width": null,
            "min_height": null,
            "min_width": null,
            "object_fit": null,
            "object_position": null,
            "order": null,
            "overflow": null,
            "overflow_x": null,
            "overflow_y": null,
            "padding": null,
            "right": null,
            "top": null,
            "visibility": null,
            "width": null
          }
        },
        "919312aa9133437c861ca084e4d83bed": {
          "model_module": "@jupyter-widgets/controls",
          "model_module_version": "1.5.0",
          "model_name": "TextModel",
          "state": {
            "_dom_classes": [],
            "_model_module": "@jupyter-widgets/controls",
            "_model_module_version": "1.5.0",
            "_model_name": "TextModel",
            "_view_count": null,
            "_view_module": "@jupyter-widgets/controls",
            "_view_module_version": "1.5.0",
            "_view_name": "TextView",
            "continuous_update": true,
            "description": "s0_x",
            "description_tooltip": null,
            "disabled": false,
            "layout": "IPY_MODEL_7c77c419080c44678110d3c429557c3a",
            "placeholder": "​",
            "style": "IPY_MODEL_d0c4781f8d384ba3be1d2b4d6a26a8a1",
            "value": "4"
          }
        },
        "95037ceef7c84c34b90bb980e0940311": {
          "model_module": "@jupyter-widgets/output",
          "model_module_version": "1.0.0",
          "model_name": "OutputModel",
          "state": {
            "_dom_classes": [],
            "_model_module": "@jupyter-widgets/output",
            "_model_module_version": "1.0.0",
            "_model_name": "OutputModel",
            "_view_count": null,
            "_view_module": "@jupyter-widgets/output",
            "_view_module_version": "1.0.0",
            "_view_name": "OutputView",
            "layout": "IPY_MODEL_26e3c08c949c4d7cb6117a7238d802af",
            "msg_id": "",
            "outputs": [
              {
                "name": "stdout",
                "output_type": "stream",
                "text": [
                  "time= 61.74\n"
                ]
              },
              {
                "data": {
                  "image/png": "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\n",
                  "text/plain": "<Figure size 300x300 with 2 Axes>"
                },
                "metadata": {},
                "output_type": "display_data"
              }
            ]
          }
        },
        "a0efde5f07d74430b056e195bb32616f": {
          "model_module": "@jupyter-widgets/controls",
          "model_module_version": "1.5.0",
          "model_name": "VBoxModel",
          "state": {
            "_dom_classes": [
              "widget-interact"
            ],
            "_model_module": "@jupyter-widgets/controls",
            "_model_module_version": "1.5.0",
            "_model_name": "VBoxModel",
            "_view_count": null,
            "_view_module": "@jupyter-widgets/controls",
            "_view_module_version": "1.5.0",
            "_view_name": "VBoxView",
            "box_style": "",
            "children": [
              "IPY_MODEL_eeee524faae248a1b81c71a107228a55",
              "IPY_MODEL_61f968517c8349d5a933fa4b33483b64",
              "IPY_MODEL_1106526d08554dd98f60a6e1f7605ffa"
            ],
            "layout": "IPY_MODEL_2308647243164096b03e8aa3b358b697"
          }
        },
        "a8f2f0350fbb489980a1299a90849b18": {
          "model_module": "@jupyter-widgets/controls",
          "model_module_version": "1.5.0",
          "model_name": "VBoxModel",
          "state": {
            "_dom_classes": [
              "widget-interact"
            ],
            "_model_module": "@jupyter-widgets/controls",
            "_model_module_version": "1.5.0",
            "_model_name": "VBoxModel",
            "_view_count": null,
            "_view_module": "@jupyter-widgets/controls",
            "_view_module_version": "1.5.0",
            "_view_name": "VBoxView",
            "box_style": "",
            "children": [
              "IPY_MODEL_f312f3c03236439ba46fe31d423def34",
              "IPY_MODEL_136304bbec454fc59fddc98547332e1a"
            ],
            "layout": "IPY_MODEL_dab4cc6a289f45c88e9c7812b3360bb3"
          }
        },
        "a9f12b2c12264ee7b609cc9b63f35d5d": {
          "model_module": "@jupyter-widgets/controls",
          "model_module_version": "1.5.0",
          "model_name": "TextModel",
          "state": {
            "_dom_classes": [],
            "_model_module": "@jupyter-widgets/controls",
            "_model_module_version": "1.5.0",
            "_model_name": "TextModel",
            "_view_count": null,
            "_view_module": "@jupyter-widgets/controls",
            "_view_module_version": "1.5.0",
            "_view_name": "TextView",
            "continuous_update": true,
            "description": "s0_y",
            "description_tooltip": null,
            "disabled": false,
            "layout": "IPY_MODEL_e3c55879d1914ad0af5daa28c6ca5133",
            "placeholder": "​",
            "style": "IPY_MODEL_49e6798553e347e0b007d774ce118bd1",
            "value": "5"
          }
        },
        "bb20047c257742979861005128438e54": {
          "model_module": "@jupyter-widgets/base",
          "model_module_version": "1.2.0",
          "model_name": "LayoutModel",
          "state": {
            "_model_module": "@jupyter-widgets/base",
            "_model_module_version": "1.2.0",
            "_model_name": "LayoutModel",
            "_view_count": null,
            "_view_module": "@jupyter-widgets/base",
            "_view_module_version": "1.2.0",
            "_view_name": "LayoutView",
            "align_content": null,
            "align_items": null,
            "align_self": null,
            "border": null,
            "bottom": null,
            "display": null,
            "flex": null,
            "flex_flow": null,
            "grid_area": null,
            "grid_auto_columns": null,
            "grid_auto_flow": null,
            "grid_auto_rows": null,
            "grid_column": null,
            "grid_gap": null,
            "grid_row": null,
            "grid_template_areas": null,
            "grid_template_columns": null,
            "grid_template_rows": null,
            "height": null,
            "justify_content": null,
            "justify_items": null,
            "left": null,
            "margin": null,
            "max_height": null,
            "max_width": null,
            "min_height": null,
            "min_width": null,
            "object_fit": null,
            "object_position": null,
            "order": null,
            "overflow": null,
            "overflow_x": null,
            "overflow_y": null,
            "padding": null,
            "right": null,
            "top": null,
            "visibility": null,
            "width": null
          }
        },
        "bc023eea50eb442880c70b540564833c": {
          "model_module": "@jupyter-widgets/base",
          "model_module_version": "1.2.0",
          "model_name": "LayoutModel",
          "state": {
            "_model_module": "@jupyter-widgets/base",
            "_model_module_version": "1.2.0",
            "_model_name": "LayoutModel",
            "_view_count": null,
            "_view_module": "@jupyter-widgets/base",
            "_view_module_version": "1.2.0",
            "_view_name": "LayoutView",
            "align_content": null,
            "align_items": null,
            "align_self": null,
            "border": null,
            "bottom": null,
            "display": null,
            "flex": null,
            "flex_flow": null,
            "grid_area": null,
            "grid_auto_columns": null,
            "grid_auto_flow": null,
            "grid_auto_rows": null,
            "grid_column": null,
            "grid_gap": null,
            "grid_row": null,
            "grid_template_areas": null,
            "grid_template_columns": null,
            "grid_template_rows": null,
            "height": null,
            "justify_content": null,
            "justify_items": null,
            "left": null,
            "margin": null,
            "max_height": null,
            "max_width": null,
            "min_height": null,
            "min_width": null,
            "object_fit": null,
            "object_position": null,
            "order": null,
            "overflow": null,
            "overflow_x": null,
            "overflow_y": null,
            "padding": null,
            "right": null,
            "top": null,
            "visibility": null,
            "width": null
          }
        },
        "c44db37c7a954ee8880d50ce6329ae98": {
          "model_module": "@jupyter-widgets/controls",
          "model_module_version": "1.5.0",
          "model_name": "SliderStyleModel",
          "state": {
            "_model_module": "@jupyter-widgets/controls",
            "_model_module_version": "1.5.0",
            "_model_name": "SliderStyleModel",
            "_view_count": null,
            "_view_module": "@jupyter-widgets/base",
            "_view_module_version": "1.2.0",
            "_view_name": "StyleView",
            "description_width": "",
            "handle_color": null
          }
        },
        "d0c4781f8d384ba3be1d2b4d6a26a8a1": {
          "model_module": "@jupyter-widgets/controls",
          "model_module_version": "1.5.0",
          "model_name": "DescriptionStyleModel",
          "state": {
            "_model_module": "@jupyter-widgets/controls",
            "_model_module_version": "1.5.0",
            "_model_name": "DescriptionStyleModel",
            "_view_count": null,
            "_view_module": "@jupyter-widgets/base",
            "_view_module_version": "1.2.0",
            "_view_name": "StyleView",
            "description_width": ""
          }
        },
        "dab4cc6a289f45c88e9c7812b3360bb3": {
          "model_module": "@jupyter-widgets/base",
          "model_module_version": "1.2.0",
          "model_name": "LayoutModel",
          "state": {
            "_model_module": "@jupyter-widgets/base",
            "_model_module_version": "1.2.0",
            "_model_name": "LayoutModel",
            "_view_count": null,
            "_view_module": "@jupyter-widgets/base",
            "_view_module_version": "1.2.0",
            "_view_name": "LayoutView",
            "align_content": null,
            "align_items": null,
            "align_self": null,
            "border": null,
            "bottom": null,
            "display": null,
            "flex": null,
            "flex_flow": null,
            "grid_area": null,
            "grid_auto_columns": null,
            "grid_auto_flow": null,
            "grid_auto_rows": null,
            "grid_column": null,
            "grid_gap": null,
            "grid_row": null,
            "grid_template_areas": null,
            "grid_template_columns": null,
            "grid_template_rows": null,
            "height": null,
            "justify_content": null,
            "justify_items": null,
            "left": null,
            "margin": null,
            "max_height": null,
            "max_width": null,
            "min_height": null,
            "min_width": null,
            "object_fit": null,
            "object_position": null,
            "order": null,
            "overflow": null,
            "overflow_x": null,
            "overflow_y": null,
            "padding": null,
            "right": null,
            "top": null,
            "visibility": null,
            "width": null
          }
        },
        "dadecc89df3f415f9a7d59609c185760": {
          "model_module": "@jupyter-widgets/controls",
          "model_module_version": "1.5.0",
          "model_name": "ToggleButtonsStyleModel",
          "state": {
            "_model_module": "@jupyter-widgets/controls",
            "_model_module_version": "1.5.0",
            "_model_name": "ToggleButtonsStyleModel",
            "_view_count": null,
            "_view_module": "@jupyter-widgets/base",
            "_view_module_version": "1.2.0",
            "_view_name": "StyleView",
            "button_width": "",
            "description_width": "",
            "font_weight": ""
          }
        },
        "e0b904a6ae2d4c90a16b1a4c41db39f8": {
          "model_module": "@jupyter-widgets/base",
          "model_module_version": "1.2.0",
          "model_name": "LayoutModel",
          "state": {
            "_model_module": "@jupyter-widgets/base",
            "_model_module_version": "1.2.0",
            "_model_name": "LayoutModel",
            "_view_count": null,
            "_view_module": "@jupyter-widgets/base",
            "_view_module_version": "1.2.0",
            "_view_name": "LayoutView",
            "align_content": null,
            "align_items": null,
            "align_self": null,
            "border": null,
            "bottom": null,
            "display": null,
            "flex": null,
            "flex_flow": null,
            "grid_area": null,
            "grid_auto_columns": null,
            "grid_auto_flow": null,
            "grid_auto_rows": null,
            "grid_column": null,
            "grid_gap": null,
            "grid_row": null,
            "grid_template_areas": null,
            "grid_template_columns": null,
            "grid_template_rows": null,
            "height": null,
            "justify_content": null,
            "justify_items": null,
            "left": null,
            "margin": null,
            "max_height": null,
            "max_width": null,
            "min_height": null,
            "min_width": null,
            "object_fit": null,
            "object_position": null,
            "order": null,
            "overflow": null,
            "overflow_x": null,
            "overflow_y": null,
            "padding": null,
            "right": null,
            "top": null,
            "visibility": null,
            "width": null
          }
        },
        "e3c55879d1914ad0af5daa28c6ca5133": {
          "model_module": "@jupyter-widgets/base",
          "model_module_version": "1.2.0",
          "model_name": "LayoutModel",
          "state": {
            "_model_module": "@jupyter-widgets/base",
            "_model_module_version": "1.2.0",
            "_model_name": "LayoutModel",
            "_view_count": null,
            "_view_module": "@jupyter-widgets/base",
            "_view_module_version": "1.2.0",
            "_view_name": "LayoutView",
            "align_content": null,
            "align_items": null,
            "align_self": null,
            "border": null,
            "bottom": null,
            "display": null,
            "flex": null,
            "flex_flow": null,
            "grid_area": null,
            "grid_auto_columns": null,
            "grid_auto_flow": null,
            "grid_auto_rows": null,
            "grid_column": null,
            "grid_gap": null,
            "grid_row": null,
            "grid_template_areas": null,
            "grid_template_columns": null,
            "grid_template_rows": null,
            "height": null,
            "justify_content": null,
            "justify_items": null,
            "left": null,
            "margin": null,
            "max_height": null,
            "max_width": null,
            "min_height": null,
            "min_width": null,
            "object_fit": null,
            "object_position": null,
            "order": null,
            "overflow": null,
            "overflow_x": null,
            "overflow_y": null,
            "padding": null,
            "right": null,
            "top": null,
            "visibility": null,
            "width": null
          }
        },
        "ec62b4096f4648c69aa6ab90d0ce5035": {
          "model_module": "@jupyter-widgets/controls",
          "model_module_version": "1.5.0",
          "model_name": "ToggleButtonsStyleModel",
          "state": {
            "_model_module": "@jupyter-widgets/controls",
            "_model_module_version": "1.5.0",
            "_model_name": "ToggleButtonsStyleModel",
            "_view_count": null,
            "_view_module": "@jupyter-widgets/base",
            "_view_module_version": "1.2.0",
            "_view_name": "StyleView",
            "button_width": "",
            "description_width": "",
            "font_weight": ""
          }
        },
        "eeee524faae248a1b81c71a107228a55": {
          "model_module": "@jupyter-widgets/controls",
          "model_module_version": "1.5.0",
          "model_name": "ToggleButtonsModel",
          "state": {
            "_dom_classes": [],
            "_model_module": "@jupyter-widgets/controls",
            "_model_module_version": "1.5.0",
            "_model_name": "ToggleButtonsModel",
            "_options_labels": [
              "left",
              "right",
              "up",
              "down"
            ],
            "_view_count": null,
            "_view_module": "@jupyter-widgets/controls",
            "_view_module_version": "1.5.0",
            "_view_name": "ToggleButtonsView",
            "button_style": "",
            "description": "action",
            "description_tooltip": null,
            "disabled": false,
            "icons": [],
            "index": 0,
            "layout": "IPY_MODEL_e0b904a6ae2d4c90a16b1a4c41db39f8",
            "style": "IPY_MODEL_ec62b4096f4648c69aa6ab90d0ce5035",
            "tooltips": []
          }
        },
        "f312f3c03236439ba46fe31d423def34": {
          "model_module": "@jupyter-widgets/controls",
          "model_module_version": "1.5.0",
          "model_name": "IntSliderModel",
          "state": {
            "_dom_classes": [],
            "_model_module": "@jupyter-widgets/controls",
            "_model_module_version": "1.5.0",
            "_model_name": "IntSliderModel",
            "_view_count": null,
            "_view_module": "@jupyter-widgets/controls",
            "_view_module_version": "1.5.0",
            "_view_name": "IntSliderView",
            "continuous_update": true,
            "description": "numIter",
            "description_tooltip": null,
            "disabled": false,
            "layout": "IPY_MODEL_211162dd2dc340c6ab58592dd4ba62fb",
            "max": 20,
            "min": 0,
            "orientation": "horizontal",
            "readout": true,
            "readout_format": "d",
            "step": 1,
            "style": "IPY_MODEL_6fd43ac6ba8248429155c348977eea3b",
            "value": 0
          }
        }
      }
    }
  },
  "nbformat": 4,
  "nbformat_minor": 0
}
